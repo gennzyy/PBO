{
  "nbformat": 4,
  "nbformat_minor": 0,
  "metadata": {
    "colab": {
      "provenance": [],
      "authorship_tag": "ABX9TyPAbcZ9RMH6iTephE54TDvK",
      "include_colab_link": true
    },
    "kernelspec": {
      "name": "python3",
      "display_name": "Python 3"
    },
    "language_info": {
      "name": "python"
    }
  },
  "cells": [
    {
      "cell_type": "markdown",
      "metadata": {
        "id": "view-in-github",
        "colab_type": "text"
      },
      "source": [
        "<a href=\"https://colab.research.google.com/github/gennzyy/PBO1/blob/main/Tugas%202/Kelas_Lingkaran.ipynb\" target=\"_parent\"><img src=\"https://colab.research.google.com/assets/colab-badge.svg\" alt=\"Open In Colab\"/></a>"
      ]
    },
    {
      "cell_type": "code",
      "execution_count": null,
      "metadata": {
        "id": "Qovq6SA1Fju5"
      },
      "outputs": [],
      "source": [
        "import math\n",
        "\n",
        "class Lingkaran:\n",
        "    def __init__(self, radius):\n",
        "        self.radius = radius\n",
        "\n",
        "    def buatlingkaran(self):\n",
        "        luas = math.pi * (self.radius ** 2)\n",
        "        print(f\"Luas lingkaran dengan radius {self.radius} adalah {luas:.2f}\")\n",
        "\n",
        "# Membuat objek\n",
        "blt = Lingkaran(4)\n",
        "blt.buatlingkaran()"
      ]
    }
  ]
}