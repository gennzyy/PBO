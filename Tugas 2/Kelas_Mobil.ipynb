{
  "nbformat": 4,
  "nbformat_minor": 0,
  "metadata": {
    "colab": {
      "provenance": [],
      "authorship_tag": "ABX9TyP11aIj0HlJXgNwc7X3upFm",
      "include_colab_link": true
    },
    "kernelspec": {
      "name": "python3",
      "display_name": "Python 3"
    },
    "language_info": {
      "name": "python"
    }
  },
  "cells": [
    {
      "cell_type": "markdown",
      "metadata": {
        "id": "view-in-github",
        "colab_type": "text"
      },
      "source": [
        "<a href=\"https://colab.research.google.com/github/gennzyy/PBO1/blob/main/Tugas%202/Kelas_Mobil.ipynb\" target=\"_parent\"><img src=\"https://colab.research.google.com/assets/colab-badge.svg\" alt=\"Open In Colab\"/></a>"
      ]
    },
    {
      "cell_type": "code",
      "execution_count": null,
      "metadata": {
        "id": "pBHi5w7MGamY"
      },
      "outputs": [],
      "source": [
        "class Mobil:\n",
        "    def __init__(self, merk, model):\n",
        "        self.merk = merk\n",
        "        self.model = model\n",
        "\n",
        "    def info_mobil(self):\n",
        "        print(f\"Mobil: {self.merk} Model: {self.model}\")\n",
        "\n",
        "# Membuat objek\n",
        "obj_mobil = Mobil(\"Toyota\", \"Avanza\")\n",
        "obj_mobil.info_mobil()"
      ]
    }
  ]
}