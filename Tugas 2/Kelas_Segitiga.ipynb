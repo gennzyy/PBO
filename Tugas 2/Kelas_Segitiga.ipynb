{
  "nbformat": 4,
  "nbformat_minor": 0,
  "metadata": {
    "colab": {
      "provenance": [],
      "authorship_tag": "ABX9TyNX5IVr4ktT9GlXI9BSCJpv",
      "include_colab_link": true
    },
    "kernelspec": {
      "name": "python3",
      "display_name": "Python 3"
    },
    "language_info": {
      "name": "python"
    }
  },
  "cells": [
    {
      "cell_type": "markdown",
      "metadata": {
        "id": "view-in-github",
        "colab_type": "text"
      },
      "source": [
        "<a href=\"https://colab.research.google.com/github/gennzyy/PBO1/blob/main/Tugas%202/Kelas_Segitiga.ipynb\" target=\"_parent\"><img src=\"https://colab.research.google.com/assets/colab-badge.svg\" alt=\"Open In Colab\"/></a>"
      ]
    },
    {
      "cell_type": "code",
      "execution_count": null,
      "metadata": {
        "id": "VoSnfRinGO5L"
      },
      "outputs": [],
      "source": [
        "class Segitiga:\n",
        "    def __init__(self, alas, tinggi):\n",
        "        self.alas = alas\n",
        "        self.tinggi = tinggi\n",
        "\n",
        "    def hitungluas(self):\n",
        "        luas = 0.5 * self.alas * self.tinggi\n",
        "        print(f\"Luas segitiga dengan alas {self.alas} dan tinggi {self.tinggi} adalah {luas}\")\n",
        "\n",
        "# Membuat objek\n",
        "obj_segitiga = Segitiga(3, 2)\n",
        "obj_segitiga.hitungluas()"
      ]
    }
  ]
}