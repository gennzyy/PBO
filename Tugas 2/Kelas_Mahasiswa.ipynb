{
  "nbformat": 4,
  "nbformat_minor": 0,
  "metadata": {
    "colab": {
      "provenance": [],
      "toc_visible": true,
      "authorship_tag": "ABX9TyOtnddL+eoHW0oQGGXr4Xf6",
      "include_colab_link": true
    },
    "kernelspec": {
      "name": "python3",
      "display_name": "Python 3"
    },
    "language_info": {
      "name": "python"
    }
  },
  "cells": [
    {
      "cell_type": "markdown",
      "metadata": {
        "id": "view-in-github",
        "colab_type": "text"
      },
      "source": [
        "<a href=\"https://colab.research.google.com/github/gennzyy/PBO1/blob/main/Tugas%202/Kelas_Mahasiswa.ipynb\" target=\"_parent\"><img src=\"https://colab.research.google.com/assets/colab-badge.svg\" alt=\"Open In Colab\"/></a>"
      ]
    },
    {
      "cell_type": "code",
      "execution_count": null,
      "metadata": {
        "id": "KX8Zw7LZEioD"
      },
      "outputs": [],
      "source": [
        "class Mahasiswa:\n",
        "    def __init__(self, nama, nim):\n",
        "        self.nama = nama\n",
        "        self.nim = nim\n",
        "\n",
        "    def cetakkrs(self):\n",
        "        print(f\"KRS untuk {self.nama} (NIM: {self.nim}) telah dicetak.\")\n",
        "\n",
        "# Membuat objek\n",
        "mhs = Mahasiswa(\"Muhammad Arif Rama\", \"230705104\")\n",
        "mhs.cetakkrs()"
      ]
    }
  ]
}