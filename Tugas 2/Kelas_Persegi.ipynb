{
  "nbformat": 4,
  "nbformat_minor": 0,
  "metadata": {
    "colab": {
      "provenance": [],
      "authorship_tag": "ABX9TyPDfWRfvhk03JGrZJzIpxPQ",
      "include_colab_link": true
    },
    "kernelspec": {
      "name": "python3",
      "display_name": "Python 3"
    },
    "language_info": {
      "name": "python"
    }
  },
  "cells": [
    {
      "cell_type": "markdown",
      "metadata": {
        "id": "view-in-github",
        "colab_type": "text"
      },
      "source": [
        "<a href=\"https://colab.research.google.com/github/gennzyy/PBO1/blob/main/Tugas%202/Kelas_Persegi.ipynb\" target=\"_parent\"><img src=\"https://colab.research.google.com/assets/colab-badge.svg\" alt=\"Open In Colab\"/></a>"
      ]
    },
    {
      "cell_type": "code",
      "execution_count": null,
      "metadata": {
        "id": "B6X9IknyF-2l"
      },
      "outputs": [],
      "source": [
        "class Persegi:\n",
        "    def __init__(self, sisi):\n",
        "        self.sisi = sisi\n",
        "\n",
        "    def hitungluas(self):\n",
        "        luas = self.sisi * self.sisi\n",
        "        print(f\"Luas persegi dengan sisi {self.sisi} adalah {luas}\")\n",
        "\n",
        "# Membuat objek\n",
        "obj_persegi = Persegi(3)\n",
        "obj_persegi.hitungluas()"
      ]
    }
  ]
}